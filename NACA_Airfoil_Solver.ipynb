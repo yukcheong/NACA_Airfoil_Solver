{
  "nbformat": 4,
  "nbformat_minor": 0,
  "metadata": {
    "colab": {
      "name": "NACA Airfoil Solver.ipynb",
      "provenance": [],
      "collapsed_sections": []
    },
    "kernelspec": {
      "name": "python3",
      "display_name": "Python 3"
    },
    "language_info": {
      "name": "python"
    }
  },
  "cells": [
    {
      "cell_type": "code",
      "source": [
        "import numpy as np\n",
        "from scipy import integrate"
      ],
      "metadata": {
        "id": "q9l6DmqHq4O5"
      },
      "execution_count": 8,
      "outputs": []
    },
    {
      "cell_type": "markdown",
      "source": [
        "# NACA Airfoil Solver"
      ],
      "metadata": {
        "id": "_jMuqza_oldi"
      }
    },
    {
      "cell_type": "code",
      "execution_count": 9,
      "metadata": {
        "id": "4hnHuY3ngsqp"
      },
      "outputs": [],
      "source": [
        "m = 0.01*(2)\n",
        "p = 0.1*(4)\n",
        "t = ((1)*(2))/100"
      ]
    },
    {
      "cell_type": "code",
      "source": [
        "def dz_dx_1(theta0):\n",
        "  global m, p, t\n",
        "  return (2*m/p**2) * (p + np.cos(theta0)/2 - 1/2)\n",
        "\n",
        "def dz_dx_2(theta0):\n",
        "  global m, p, t\n",
        "  return (2*m/((1-p)**2)) * (p + np.cos(theta0)/2 - 1/2)"
      ],
      "metadata": {
        "id": "UMEUCpAEpFZL"
      },
      "execution_count": 10,
      "outputs": []
    },
    {
      "cell_type": "code",
      "source": [
        "theta0_1 = np.arange(0, np.arccos(1-2*p), 0.0000001)\n",
        "dz_dx_1_lst = dz_dx_1(theta0_1)\n",
        "int_dz_dx_1 = integrate.simps(dz_dx_1_lst, theta0_1)\n",
        "\n",
        "theta0_2 = np.arange(np.arccos(1-2*p), np.pi, 0.0000001)\n",
        "dz_dx_2_lst = dz_dx_2(theta0_2)\n",
        "int_dz_dx_2 = integrate.simps(dz_dx_2_lst, theta0_2)\n",
        "\n",
        "int_dz_dx = int_dz_dx_1 + int_dz_dx_2\n",
        "\n",
        "print(\"Integrate dz_dx from 0 to pi: %f\" %(int_dz_dx))"
      ],
      "metadata": {
        "colab": {
          "base_uri": "https://localhost:8080/"
        },
        "id": "oM-D2Eg3qEP-",
        "outputId": "bc7d3d49-6157-4dbf-bcb2-d8bca527425b"
      },
      "execution_count": 11,
      "outputs": [
        {
          "output_type": "stream",
          "name": "stdout",
          "text": [
            "Integrate dz_dx from 0 to pi: 0.014115\n"
          ]
        }
      ]
    },
    {
      "cell_type": "code",
      "source": [
        "def dz_dx_1_cosn(theta0, n):\n",
        "  global m, p, t\n",
        "  return (2*m/p**2) * (p + np.cos(theta0)/2 - 1/2) * np.cos(n*theta0)\n",
        "\n",
        "def dz_dx_2_cosn(theta0, n):\n",
        "  global m, p, t\n",
        "  return (2*m/((1-p)**2)) * (p + np.cos(theta0)/2 - 1/2) * np.cos(n*theta0)"
      ],
      "metadata": {
        "id": "VcaCY4HMzMx9"
      },
      "execution_count": 12,
      "outputs": []
    },
    {
      "cell_type": "code",
      "source": [
        "dz_dx_1_cosn_lst = dz_dx_1_cosn(theta0_1, n=1)\n",
        "int_dz_dx_1_cosn = integrate.simps(dz_dx_1_cosn_lst, theta0_1)\n",
        "\n",
        "dz_dx_2_cosn_lst = dz_dx_2_cosn(theta0_2, n=1)\n",
        "int_dz_dx_2_cosn = integrate.simps(dz_dx_2_cosn_lst, theta0_2)\n",
        "\n",
        "int_dz_dx_cosn = int_dz_dx_1_cosn + int_dz_dx_2_cosn\n",
        "\n",
        "print(\"Integrate dz_dx times cos1x from 0 to pi: %f\" %(int_dz_dx_cosn))"
      ],
      "metadata": {
        "colab": {
          "base_uri": "https://localhost:8080/"
        },
        "id": "YuD-QCsEz6Hz",
        "outputId": "4b999747-8a61-4e6c-8fad-92ea0d74378e"
      },
      "execution_count": 13,
      "outputs": [
        {
          "output_type": "stream",
          "name": "stdout",
          "text": [
            "Integrate dz_dx times cos1x from 0 to pi: 0.128012\n"
          ]
        }
      ]
    },
    {
      "cell_type": "code",
      "source": [
        "dz_dx_1_cosn_lst = dz_dx_1_cosn(theta0_1, n=2)\n",
        "int_dz_dx_1_cosn = integrate.simps(dz_dx_1_cosn_lst, theta0_1)\n",
        "\n",
        "dz_dx_2_cosn_lst = dz_dx_2_cosn(theta0_2, n=2)\n",
        "int_dz_dx_2_cosn = integrate.simps(dz_dx_2_cosn_lst, theta0_2)\n",
        "\n",
        "int_dz_dx_cosn = int_dz_dx_1_cosn + int_dz_dx_2_cosn\n",
        "\n",
        "print(\"Integrate dz_dx times cos2x from 0 to pi: %f\" %(int_dz_dx_cosn))"
      ],
      "metadata": {
        "colab": {
          "base_uri": "https://localhost:8080/"
        },
        "id": "8fT57_Rf2AfA",
        "outputId": "6afcfd6e-a705-4d92-abba-9868b40a87f2"
      },
      "execution_count": 14,
      "outputs": [
        {
          "output_type": "stream",
          "name": "stdout",
          "text": [
            "Integrate dz_dx times cos2x from 0 to pi: 0.021773\n"
          ]
        }
      ]
    },
    {
      "cell_type": "code",
      "source": [
        "%%shell\n",
        "jupyter nbconvert --to html /content/\"NACA_Airfoil_Solver.ipynb\""
      ],
      "metadata": {
        "colab": {
          "base_uri": "https://localhost:8080/"
        },
        "id": "-N5xoz0K6zz7",
        "outputId": "ab031bd1-4025-4275-bf7a-979b9f95631d"
      },
      "execution_count": 18,
      "outputs": [
        {
          "output_type": "stream",
          "name": "stdout",
          "text": [
            "[NbConvertApp] Converting notebook /content/NACA_Airfoil_Solver(yukcheong).ipynb to html\n",
            "[NbConvertApp] Writing 287797 bytes to /content/NACA_Airfoil_Solver(yukcheong).html\n"
          ]
        },
        {
          "output_type": "execute_result",
          "data": {
            "text/plain": [
              ""
            ]
          },
          "metadata": {},
          "execution_count": 18
        }
      ]
    }
  ]
}