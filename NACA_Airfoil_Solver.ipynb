{
  "nbformat": 4,
  "nbformat_minor": 0,
  "metadata": {
    "colab": {
      "name": "NACA Airfoil Solver.ipynb",
      "provenance": [],
      "collapsed_sections": []
    },
    "kernelspec": {
      "name": "python3",
      "display_name": "Python 3"
    },
    "language_info": {
      "name": "python"
    }
  },
  "cells": [
    {
      "cell_type": "markdown",
      "source": [
        "Author： Tang Yuk Cheong\n",
        "\n",
        "A simple program to calculate integral of $\\frac{dz}{dx}$ for A0 A1 A2\n",
        "\n",
        "---\n"
      ],
      "metadata": {
        "id": "x_YMVmRA8j6a"
      }
    },
    {
      "cell_type": "code",
      "source": [
        "import numpy as np\n",
        "from scipy import integrate"
      ],
      "metadata": {
        "id": "q9l6DmqHq4O5"
      },
      "execution_count": 27,
      "outputs": []
    },
    {
      "cell_type": "markdown",
      "source": [
        "# NACA Airfoil Solver"
      ],
      "metadata": {
        "id": "_jMuqza_oldi"
      }
    },
    {
      "cell_type": "code",
      "execution_count": 28,
      "metadata": {
        "id": "4hnHuY3ngsqp"
      },
      "outputs": [],
      "source": [
        "m = 0.01*(2)\n",
        "p = 0.1*(4)\n",
        "t = ((1)*(2))/100"
      ]
    },
    {
      "cell_type": "code",
      "source": [
        "def dz_dx_1(theta0):\n",
        "  global m, p, t\n",
        "  return (2*m/p**2) * (p + np.cos(theta0)/2 - 1/2)\n",
        "\n",
        "def dz_dx_2(theta0):\n",
        "  global m, p, t\n",
        "  return (2*m/((1-p)**2)) * (p + np.cos(theta0)/2 - 1/2)"
      ],
      "metadata": {
        "id": "UMEUCpAEpFZL"
      },
      "execution_count": 29,
      "outputs": []
    },
    {
      "cell_type": "code",
      "source": [
        "theta0_1 = np.arange(0, np.arccos(1-2*p), 0.0000001)\n",
        "dz_dx_1_lst = dz_dx_1(theta0_1)\n",
        "int_dz_dx_1 = integrate.simps(dz_dx_1_lst, theta0_1)\n",
        "\n",
        "theta0_2 = np.arange(np.arccos(1-2*p), np.pi, 0.0000001)\n",
        "dz_dx_2_lst = dz_dx_2(theta0_2)\n",
        "int_dz_dx_2 = integrate.simps(dz_dx_2_lst, theta0_2)\n",
        "\n",
        "int_dz_dx = int_dz_dx_1 + int_dz_dx_2\n",
        "\n",
        "print(\"Integrate dz_dx from 0 to pi: %f\" %(int_dz_dx))"
      ],
      "metadata": {
        "colab": {
          "base_uri": "https://localhost:8080/"
        },
        "id": "oM-D2Eg3qEP-",
        "outputId": "9dd3cdfa-e289-412d-afd2-9b9816ba785a"
      },
      "execution_count": 30,
      "outputs": [
        {
          "output_type": "stream",
          "name": "stdout",
          "text": [
            "Integrate dz_dx from 0 to pi: 0.014115\n"
          ]
        }
      ]
    },
    {
      "cell_type": "code",
      "source": [
        "def dz_dx_1_cosn(theta0, n):\n",
        "  global m, p, t\n",
        "  return (2*m/p**2) * (p + np.cos(theta0)/2 - 1/2) * np.cos(n*theta0)\n",
        "\n",
        "def dz_dx_2_cosn(theta0, n):\n",
        "  global m, p, t\n",
        "  return (2*m/((1-p)**2)) * (p + np.cos(theta0)/2 - 1/2) * np.cos(n*theta0)"
      ],
      "metadata": {
        "id": "VcaCY4HMzMx9"
      },
      "execution_count": 31,
      "outputs": []
    },
    {
      "cell_type": "code",
      "source": [
        "dz_dx_1_cosn_lst = dz_dx_1_cosn(theta0_1, n=1)\n",
        "int_dz_dx_1_cosn = integrate.simps(dz_dx_1_cosn_lst, theta0_1)\n",
        "\n",
        "dz_dx_2_cosn_lst = dz_dx_2_cosn(theta0_2, n=1)\n",
        "int_dz_dx_2_cosn = integrate.simps(dz_dx_2_cosn_lst, theta0_2)\n",
        "\n",
        "int_dz_dx_cosn = int_dz_dx_1_cosn + int_dz_dx_2_cosn\n",
        "\n",
        "print(\"Integrate dz_dx times cos1x from 0 to pi: %f\" %(int_dz_dx_cosn))"
      ],
      "metadata": {
        "colab": {
          "base_uri": "https://localhost:8080/"
        },
        "id": "YuD-QCsEz6Hz",
        "outputId": "440d05ae-2a35-493e-cbe8-a2ad6ebd5c44"
      },
      "execution_count": 32,
      "outputs": [
        {
          "output_type": "stream",
          "name": "stdout",
          "text": [
            "Integrate dz_dx times cos1x from 0 to pi: 0.128012\n"
          ]
        }
      ]
    },
    {
      "cell_type": "code",
      "source": [
        "dz_dx_1_cosn_lst = dz_dx_1_cosn(theta0_1, n=2)\n",
        "int_dz_dx_1_cosn = integrate.simps(dz_dx_1_cosn_lst, theta0_1)\n",
        "\n",
        "dz_dx_2_cosn_lst = dz_dx_2_cosn(theta0_2, n=2)\n",
        "int_dz_dx_2_cosn = integrate.simps(dz_dx_2_cosn_lst, theta0_2)\n",
        "\n",
        "int_dz_dx_cosn = int_dz_dx_1_cosn + int_dz_dx_2_cosn\n",
        "\n",
        "print(\"Integrate dz_dx times cos2x from 0 to pi: %f\" %(int_dz_dx_cosn))"
      ],
      "metadata": {
        "colab": {
          "base_uri": "https://localhost:8080/"
        },
        "id": "8fT57_Rf2AfA",
        "outputId": "28eb2104-b306-4475-eb4c-3c949aad8b18"
      },
      "execution_count": 33,
      "outputs": [
        {
          "output_type": "stream",
          "name": "stdout",
          "text": [
            "Integrate dz_dx times cos2x from 0 to pi: 0.021773\n"
          ]
        }
      ]
    },
    {
      "cell_type": "code",
      "source": [
        "%%shell\n",
        "jupyter nbconvert --to html /content/\"NACA_Airfoil_Solver.ipynb\""
      ],
      "metadata": {
        "colab": {
          "base_uri": "https://localhost:8080/"
        },
        "id": "-N5xoz0K6zz7",
        "outputId": "34fc8f47-cd98-4186-9783-a131c65446a3"
      },
      "execution_count": 34,
      "outputs": [
        {
          "output_type": "stream",
          "name": "stdout",
          "text": [
            "[NbConvertApp] Converting notebook /content/NACA_Airfoil_Solver.ipynb to html\n",
            "[NbConvertApp] Writing 298490 bytes to /content/NACA_Airfoil_Solver.html\n"
          ]
        },
        {
          "output_type": "execute_result",
          "data": {
            "text/plain": [
              ""
            ]
          },
          "metadata": {},
          "execution_count": 34
        }
      ]
    }
  ]
}
